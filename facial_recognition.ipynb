{
 "cells": [
  {
   "cell_type": "code",
   "execution_count": null,
   "metadata": {},
   "outputs": [],
   "source": [
    "import os\n",
    "import uuid\n",
    "import random\n",
    "import numpy as np\n",
    "import cv2\n",
    "from matplotlib import pyplot as plt\n",
    "import tensorflow as tf\n",
    "from tensorflow.keras.models import Model\n",
    "from tensorflow.keras.layers import Layer, Conv2D, Dense, MaxPooling2D, Input, Flatten\n",
    "from tensorflow.keras.metrics import Precision, Recall"
   ]
  },
  {
   "cell_type": "code",
   "execution_count": null,
   "metadata": {},
   "outputs": [],
   "source": [
    "# DIRECTORY PATHS\n",
    "POS_PATH = os.path.join('data', 'positive')\n",
    "NEG_PATH = os.path.join('data', 'negative')\n",
    "ANC_PATH = os.path.join('data', 'anchor')\n",
    "INPUT_IMAGE_PATH = os.path.join('application_data', 'input_image')\n",
    "VERIFICATION_IMAGES_PATH = os.path.join('application_data', 'verification_images')\n"
   ]
  },
  {
   "cell_type": "code",
   "execution_count": null,
   "metadata": {},
   "outputs": [],
   "source": [
    "# FUNCTION TO CREATE DIRECTORIES IF THEY DON'T EXIST\n",
    "def create_dirs():\n",
    "    os.makedirs(POS_PATH, exist_ok=True)\n",
    "    os.makedirs(NEG_PATH, exist_ok=True)\n",
    "    os.makedirs(ANC_PATH, exist_ok=True)\n",
    "    os.makedirs(INPUT_IMAGE_PATH, exist_ok=True)\n",
    "    os.makedirs(VERIFICATION_IMAGES_PATH, exist_ok=True)\n",
    "\n",
    "create_dirs()"
   ]
  },
  {
   "cell_type": "code",
   "execution_count": null,
   "metadata": {},
   "outputs": [],
   "source": [
    "# COLLECT POSITIVE AND ANCHOR IMAGES\n",
    "def collect_images(cap, ANC_PATH, POS_PATH):\n",
    "    if not cap.isOpened():\n",
    "        print(\"Error: Camera not accessible.\")\n",
    "        return\n",
    "\n",
    "    print(f\"Anchor Path: {ANC_PATH}\")\n",
    "    print(f\"Positive Path: {POS_PATH}\")\n",
    "\n",
    "    while cap.isOpened():\n",
    "        ret, frame = cap.read()\n",
    "        if not ret:\n",
    "            print(\"Error: Failed to capture image.\")\n",
    "            break\n",
    "        \n",
    "        frame = frame[120:120+250, 200:200+250, :]\n",
    "        cv2.imshow('Image Collection', frame)\n",
    "\n",
    "        key = cv2.waitKey(1)\n",
    "        if key & 0xFF == ord('a'):\n",
    "            imgname = os.path.join(ANC_PATH, '{}.jpg'.format(uuid.uuid1()))\n",
    "            print(f\"Saving anchor image to {imgname}\")\n",
    "            cv2.imwrite(imgname, frame)\n",
    "        elif key & 0xFF == ord('p'):\n",
    "            imgname = os.path.join(POS_PATH, '{}.jpg'.format(uuid.uuid1()))\n",
    "            print(f\"Saving positive image to {imgname}\")\n",
    "            cv2.imwrite(imgname, frame)\n",
    "        elif key & 0xFF == ord('q'):\n",
    "            print(\"Quitting.\")\n",
    "            break\n",
    "\n",
    "    cap.release()\n",
    "    cv2.destroyAllWindows()\n",
    "\n",
    "cap = cv2.VideoCapture(0)\n",
    "collect_images(cap, ANC_PATH, POS_PATH)"
   ]
  },
  {
   "cell_type": "code",
   "execution_count": null,
   "metadata": {},
   "outputs": [],
   "source": [
    "# LOAD AND PRE-PROCESS DATA\n",
    "def preprocess(file_path):\n",
    "    byte_img = tf.io.read_file(file_path)\n",
    "    img = tf.io.decode_jpeg(byte_img)\n",
    "    img = tf.image.resize(img, (105, 105))\n",
    "    img = img / 255.0\n",
    "    return img"
   ]
  },
  {
   "cell_type": "code",
   "execution_count": null,
   "metadata": {},
   "outputs": [],
   "source": [
    "# PREPARE DATASET\n",
    "anchor = tf.data.Dataset.list_files(ANC_PATH + '/*.jpg').take(400)\n",
    "positive = tf.data.Dataset.list_files(POS_PATH + '/*.jpg').take(400)\n",
    "negative = tf.data.Dataset.list_files(NEG_PATH + '/*.jpg').take(400)\n",
    "\n",
    "positives = tf.data.Dataset.zip((anchor, positive, tf.data.Dataset.from_tensor_slices(tf.ones(len(anchor)))))\n",
    "negatives = tf.data.Dataset.zip((anchor, negative, tf.data.Dataset.from_tensor_slices(tf.zeros(len(anchor)))))\n",
    "data = positives.concatenate(negatives)\n",
    "\n",
    "def preprocess_twin(input_img, validator_img, label):\n",
    "    return (preprocess(input_img), preprocess(validator_img), label)\n",
    "\n",
    "data = data.map(preprocess_twin)\n",
    "data = data.cache()\n",
    "data = data.shuffle(buffer_size=1024)"
   ]
  },
  {
   "cell_type": "code",
   "execution_count": null,
   "metadata": {},
   "outputs": [],
   "source": [
    "# SPLIT DATA INTO TRAINING AND TESTING SETS\n",
    "train_data = data.take(round(len(data) * 0.7))\n",
    "train_data = train_data.batch(16).prefetch(8)\n",
    "test_data = data.skip(round(len(data) * 0.7)).take(round(len(data) * 0.3)).batch(16).prefetch(8)"
   ]
  },
  {
   "cell_type": "code",
   "execution_count": null,
   "metadata": {},
   "outputs": [],
   "source": [
    "# EMBEDDING NETWORK\n",
    "def make_embedding():\n",
    "    inp = Input(shape=(105, 105, 3), name='input_image')\n",
    "    x = Conv2D(64, (10, 10), activation='relu')(inp)\n",
    "    x = MaxPooling2D(64, (2, 2), padding='same')(x)\n",
    "    x = Conv2D(128, (7, 7), activation='relu')(x)\n",
    "    x = MaxPooling2D(64, (2, 2), padding='same')(x)\n",
    "    x = Conv2D(128, (4, 4), activation='relu')(x)\n",
    "    x = MaxPooling2D(64, (2, 2), padding='same')(x)\n",
    "    x = Conv2D(256, (4, 4), activation='relu')(x)\n",
    "    x = Flatten()(x)\n",
    "    output = Dense(4096, activation='sigmoid')(x)\n",
    "    return Model(inputs=inp, outputs=output, name='embedding')\n",
    "\n",
    "embedding = make_embedding()\n",
    "embedding.summary()"
   ]
  },
  {
   "cell_type": "code",
   "execution_count": null,
   "metadata": {},
   "outputs": [],
   "source": [
    "# L1 DISTANCE LAYER\n",
    "class L1Dist(Layer):\n",
    "    def __init__(self, **kwargs):\n",
    "        super().__init__()\n",
    "        \n",
    "    def call(self, inputs):\n",
    "        input_embedding, validation_embedding = inputs\n",
    "        return tf.math.abs(input_embedding - validation_embedding)"
   ]
  },
  {
   "cell_type": "code",
   "execution_count": null,
   "metadata": {},
   "outputs": [],
   "source": [
    "# SIAMESE MODEL\n",
    "def make_siamese_model():\n",
    "    input_image = Input(name='input_img', shape=(105, 105, 3))\n",
    "    validation_image = Input(name='validation_img', shape=(105, 105, 3))\n",
    "    siamese_layer = L1Dist(name='distance')([embedding(input_image), embedding(validation_image)])\n",
    "    classifier = Dense(1, activation='sigmoid')(siamese_layer)\n",
    "    return Model(inputs=[input_image, validation_image], outputs=classifier, name='SiameseNetwork')\n",
    "\n",
    "siamese_model = make_siamese_model()\n",
    "siamese_model.summary()"
   ]
  },
  {
   "cell_type": "code",
   "execution_count": null,
   "metadata": {},
   "outputs": [],
   "source": [
    "# COMPILE AND TRAIN THE MODEL\n",
    "binary_cross_loss = tf.losses.BinaryCrossentropy()\n",
    "opt = tf.keras.optimizers.Adam(1e-4)\n",
    "checkpoint_dir = './training_checkpoints'\n",
    "checkpoint_prefix = os.path.join(checkpoint_dir, 'ckpt')\n",
    "checkpoint = tf.train.Checkpoint(opt=opt, siamese_model=siamese_model)\n",
    "\n",
    "@tf.function\n",
    "def train_step(batch):\n",
    "    with tf.GradientTape() as tape:\n",
    "        X = batch[:2]\n",
    "        y = batch[2]\n",
    "        yhat = siamese_model(X, training=True)\n",
    "        loss = binary_cross_loss(y, yhat)\n",
    "    grad = tape.gradient(loss, siamese_model.trainable_variables)\n",
    "    opt.apply_gradients(zip(grad, siamese_model.trainable_variables))\n",
    "    return loss\n",
    "\n",
    "def train(data, EPOCHS):\n",
    "    for epoch in range(1, EPOCHS + 1):\n",
    "        print(f'\\nEpoch {epoch}/{EPOCHS}')\n",
    "        progbar = tf.keras.utils.Progbar(len(data))\n",
    "        for idx, batch in enumerate(data):\n",
    "            train_step(batch)\n",
    "            progbar.update(idx + 1)\n",
    "        if epoch % 10 == 0:\n",
    "            checkpoint.save(file_prefix=checkpoint_prefix)\n",
    "\n",
    "EPOCHS = 50\n",
    "train(train_data, EPOCHS)"
   ]
  },
  {
   "cell_type": "code",
   "execution_count": null,
   "metadata": {},
   "outputs": [],
   "source": [
    "# EVALUATE MODEL\n",
    "test_input, test_val, y_true = test_data.as_numpy_iterator().next()\n",
    "y_hat = siamese_model.predict([test_input, test_val])\n",
    "y_hat = [1 if prediction > 0.5 else 0 for prediction in y_hat]\n",
    "\n",
    "recall = Recall()\n",
    "recall.update_state(y_true, y_hat)\n",
    "print(f'Recall: {recall.result().numpy()}')\n",
    "\n",
    "precision = Precision()\n",
    "precision.update_state(y_true, y_hat)\n",
    "print(f'Precision: {precision.result().numpy()}')"
   ]
  },
  {
   "cell_type": "code",
   "execution_count": null,
   "metadata": {},
   "outputs": [],
   "source": [
    "# VISUALIZE MODEL\n",
    "plt.figure(figsize=(10, 8))\n",
    "plt.subplot(1, 2, 1)\n",
    "plt.imshow(test_input[1])\n",
    "plt.subplot(1, 2, 2)\n",
    "plt.imshow(test_input[1])\n",
    "plt.show()"
   ]
  },
  {
   "cell_type": "code",
   "execution_count": null,
   "metadata": {},
   "outputs": [],
   "source": [
    "# SAVE AND LOAD MODEL\n",
    "siamese_model.save('siamese_model.keras')\n",
    "model = tf.keras.models.load_model('siamese_model.keras', custom_objects={'L1Dist': L1Dist, 'BinaryCrossentropy': tf.losses.BinaryCrossentropy})\n",
    "model.summary()"
   ]
  },
  {
   "cell_type": "code",
   "execution_count": null,
   "metadata": {},
   "outputs": [],
   "source": [
    "# REAL TIME VERIFICATION FUNCTION\n",
    "def verify(model, detection_threshold, verification_threshold):\n",
    "    results = []\n",
    "    for image in os.listdir(os.path.join('application_data', 'verification_images')):\n",
    "        input_img = preprocess(os.path.join('application_data', 'input_image', 'input_image.jpg'))\n",
    "        validation_img = preprocess(os.path.join('application_data', 'verification_images', image))\n",
    "        result = model.predict([np.expand_dims(input_img, axis=0), np.expand_dims(validation_img, axis=0)])\n",
    "        results.append(result)\n",
    "    \n",
    "    detection = np.sum(np.array(results) > detection_threshold)\n",
    "    verification = detection / len(os.listdir(os.path.join('application_data', 'verification_images')))\n",
    "    verified = verification > verification_threshold\n",
    "    return results, verified"
   ]
  },
  {
   "cell_type": "code",
   "execution_count": null,
   "metadata": {},
   "outputs": [],
   "source": [
    "# REAL TIME VERIFICATION USING OPEN-CV\n",
    "cap = cv2.VideoCapture(0)\n",
    "while cap.isOpened():\n",
    "    ret, frame = cap.read()\n",
    "    frame = frame[120:120+250, 200:200+250, :]\n",
    "    cv2.imshow('Verification', frame)\n",
    "    \n",
    "    if cv2.waitKey(10) & 0xFF == ord('v'):\n",
    "        cv2.imwrite(os.path.join(INPUT_IMAGE_PATH, 'input_image.jpg'), frame)\n",
    "        results, verified = verify(model, 0.9, 0.9)\n",
    "        print(verified)\n",
    "    \n",
    "    if cv2.waitKey(10) & 0xFF == ord('q'):\n",
    "        break\n",
    "\n",
    "cap.release()\n",
    "cv2.destroyAllWindows()"
   ]
  }
 ],
 "metadata": {
  "kernelspec": {
   "display_name": "base",
   "language": "python",
   "name": "python3"
  },
  "language_info": {
   "codemirror_mode": {
    "name": "ipython",
    "version": 3
   },
   "file_extension": ".py",
   "mimetype": "text/x-python",
   "name": "python",
   "nbconvert_exporter": "python",
   "pygments_lexer": "ipython3",
   "version": "3.12.4"
  }
 },
 "nbformat": 4,
 "nbformat_minor": 2
}
